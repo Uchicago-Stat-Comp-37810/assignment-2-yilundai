{
 "cells": [
  {
   "cell_type": "code",
   "execution_count": null,
   "metadata": {},
   "outputs": [],
   "source": [
    "#print a string\n",
    "print(\"I will now count my chickens:\")\n",
    "\n",
    "#print a string and then a number, which is the result of 25 + 30/6\n",
    "print(\"Hens\", 25 + 30 / 6)\n",
    "#print a string and then a number, which is the result of 100 - 25 * 3 % 4\n",
    "print(\"Roosters\", 100 - 25 * 3 % 4)\n",
    "\n",
    "#print a string\n",
    "print(\"Now I will count the eggs:\")\n",
    "\n",
    "#print a number, which is the result of the calculation\n",
    "print(3 + 2 + 1 - 5 + 4 % 2 - 1 / 4 + 6)\n",
    "\n",
    "#print a string\n",
    "print(\"Is it true that 3 + 2 < 5 - 7?\")\n",
    "\n",
    "#print a logical value\n",
    "print(3 + 2 < 5 - 7)\n",
    "\n",
    "#print a string and then a number\n",
    "print(\"What is 3 + 2?\", 3 + 2)\n",
    "#print a string and then a number\n",
    "print(\"What is 5 - 7?\", 5 - 7)\n",
    "\n",
    "#print a string\n",
    "print(\"Oh, that's why it's False.\")\n",
    "\n",
    "#print a tring\n",
    "print(\"How about some more.\")\n",
    "\n",
    "#print a string and then a logical value\n",
    "print(\"Is it greater?\", 5 > -2)\n",
    "print(\"Is it greater or equal?\", 5 >= -2)\n",
    "print(\"Is it less or equal?\", 5 <= -2)"
   ]
  }
 ],
 "metadata": {
  "kernelspec": {
   "display_name": "Python 3",
   "language": "python",
   "name": "python3"
  },
  "language_info": {
   "codemirror_mode": {
    "name": "ipython",
    "version": 3
   },
   "file_extension": ".py",
   "mimetype": "text/x-python",
   "name": "python",
   "nbconvert_exporter": "python",
   "pygments_lexer": "ipython3",
   "version": "3.6.4"
  }
 },
 "nbformat": 4,
 "nbformat_minor": 2
}
